{
 "cells": [
  {
   "cell_type": "markdown",
   "metadata": {},
   "source": [
    "## 練習時間\n",
    "#### 請寫一個函式用來計算 Mean Square Error\n",
    "$ MSE = \\frac{1}{n}\\sum_{i=1}^{n}{(Y_i - \\hat{Y}_i)^2} $\n",
    "\n",
    "### Hint: [如何取平方](https://googoodesign.gitbooks.io/-ezpython/unit-1.html)"
   ]
  },
  {
   "cell_type": "code",
   "execution_count": 10,
   "metadata": {},
   "outputs": [],
   "source": [
    "import numpy as np\n",
    "import matplotlib.pyplot as plt"
   ]
  },
  {
   "cell_type": "code",
   "execution_count": 23,
   "metadata": {},
   "outputs": [],
   "source": [
    "def mean_squared_error(y, yp):\n",
    "    \"\"\"\n",
    "    請完成這個 Function 後往下執行\n",
    "    \"\"\"\n",
    "    \"\"\"\n",
    "    計算 MSE\n",
    "    Args:\n",
    "        - y: 實際值\n",
    "        - yp: 預測值\n",
    "    Return:\n",
    "        - mse: MSE\n",
    "    \"\"\"\n",
    "    mse = MSE = sum((y - yp)**2) / len(y)\n",
    "    return mse\n"
   ]
  },
  {
   "cell_type": "code",
   "execution_count": 24,
   "metadata": {},
   "outputs": [
    {
     "data": {
      "image/png": "[encoded data removed]",
      "text/plain": [
       "<Figure size 432x288 with 1 Axes>"
      ]
     },
     "metadata": {
      "needs_background": "light"
     },
     "output_type": "display_data"
    }
   ],
   "source": [
    "w = 3\n",
    "b = 0.5\n",
    "\n",
    "x_lin = np.linspace(0, 100, 101)\n",
    "\n",
    "y = (x_lin + np.random.randn(101) * 5) * w + b\n",
    "\n",
    "plt.plot(x_lin, y, 'b.', label = 'data points')\n",
    "plt.title(\"Assume we have data points\")\n",
    "plt.legend(loc = 2)\n",
    "plt.show()"
   ]
  },
  {
   "cell_type": "code",
   "execution_count": 25,
   "metadata": {
    "scrolled": true
   },
   "outputs": [
    {
     "data": {
      "image/png": "[encoded data removed]",
      "text/plain": [
       "<Figure size 432x288 with 1 Axes>"
      ]
     },
     "metadata": {
      "needs_background": "light"
     },
     "output_type": "display_data"
    }
   ],
   "source": [
    "y_hat = x_lin * w + b\n",
    "plt.plot(x_lin, y, 'b.', label = 'data')\n",
    "plt.plot(x_lin, y_hat, 'r-', label = 'prediction')\n",
    "plt.title(\"Assume we have data points (And the prediction)\")\n",
    "plt.legend(loc = 2)\n",
    "plt.show()"
   ]
  },
  {
   "cell_type": "code",
   "execution_count": 26,
   "metadata": {},
   "outputs": [],
   "source": [
    "def mean_absolute_error(y, yp):\n",
    "    \"\"\"\n",
    "    計算 MAE\n",
    "    Args:\n",
    "        - y: 實際值\n",
    "        - yp: 預測值\n",
    "    Return:\n",
    "        - mae: MAE\n",
    "    \"\"\"\n",
    "    mae = MAE = sum(abs(y - yp)) / len(y)\n",
    "    return mae"
   ]
  },
  {
   "cell_type": "code",
   "execution_count": 27,
   "metadata": {},
   "outputs": [
    {
     "name": "stdout",
     "output_type": "stream",
     "text": [
      "The Mean squared error is 279.370\n",
      "The Mean absolute error is 13.608\n"
     ]
    }
   ],
   "source": [
    "# 執行 Function, 確認有沒有正常執行\n",
    "MSE = mean_squared_error(y, y_hat)\n",
    "MAE = mean_absolute_error(y, y_hat)\n",
    "print(\"The Mean squared error is %.3f\" % (MSE))\n",
    "print(\"The Mean absolute error is %.3f\" % (MAE))"
   ]
  },
  {
   "cell_type": "code",
   "execution_count": null,
   "metadata": {},
   "outputs": [],
   "source": [
    "\"\"\"\n",
    "作業1：\n",
    "\n",
    "請上 Kaggle, 在 Competitions 或 Dataset 中找一組競賽或資料並寫下：\n",
    "\n",
    "1. 你選的這組資料為何重要:\n",
    "Ans:CareerVillage.org是一個非盈利組織，為服務職場經驗不足年輕人並提供職業建議\n",
    "該平台於2011年在紐約市的四個教室成立，現在已經為25,000名志願者專業人士和超過350萬在線學習者提供了職業建議，為學生提供有關任何職業的任何問題的答案。\n",
    "所以樣本有其獨特性，再加上已有25,000名志願者創建了個人資料，並在職業問題適合他們時選擇接收電子郵件。\n",
    "藉由專家系統的產生對學生提出建議，可以給予學生最正確的方向。\n",
    "\n",
    "2. 資料從何而來 (tips: 譬如提供者是誰、以什麼方式蒐集)\n",
    "Ans:學生透過E-amil進行提問，年齡範圍從14到24歲不等，遍布全世界\n",
    "此外還有professionals自願者回應的資料\n",
    "\n",
    "3. 蒐集而來的資料型態為何\n",
    "Ans:主檔為answers.csv:主要以HTML格式為主的提問資料，string格式\n",
    "\n",
    "4. 這組資料想解決的問題如何評估\n",
    "Ans:\n",
    "主要目標:制定一種方法，向最有可能回答這些問題的專業人士推薦相關問題。\n",
    "將提問者以及professionals(專家)一來一往的答案進行NLP進行字詞拆解\n",
    "再利用叢集分析出相關性\n",
    "\"\"\""
   ]
  },
  {
   "cell_type": "code",
   "execution_count": null,
   "metadata": {},
   "outputs": [],
   "source": [
    "\"\"\"\n",
    "作業2：\n",
    "\n",
    "想像你經營一個自由載客車隊，你希望能透過數據分析以提升業績，請你思考並描述你如何規劃整體的分析/解決方案：\n",
    "\n",
    "1. 核心問題為何 (tips：如何定義 「提升業績 & 你的假設」)\n",
    "Ans:\n",
    "提升業績:增加載客率以及回頭車的機率\n",
    "你的假設:假設乘客會因為服務品質以及距離影響到業績\n",
    "\n",
    "2. 資料從何而來 (tips：哪些資料可能會對你想問的問題產生影響 & 資料如何蒐集)\n",
    "Ans:\n",
    "a.收集每次搭車乘客的基本資料\n",
    "b.收集每趟車次進行客戶滿意度問卷回饋\n",
    "c.收集每趟行程的距離以及車資\n",
    "\n",
    "3. 蒐集而來的資料型態為何\n",
    "Ans:\n",
    "a.搭車乘客的基本資料\n",
    "姓名(ID):文字\n",
    "性別:類別(單選)\n",
    "年齡層:類別(單選)\n",
    "住址:文字(用以分析乘車地點)\n",
    "職業:類別(單選)\n",
    "學歷:類別(單選)\n",
    "\n",
    "b.每趟車次進行客戶滿意度問卷回饋\n",
    "姓名(ID):文字\n",
    "對於本次搭乘整體是否滿意:五點量表\n",
    "對於搭乘路線是否滿意:五點量表\n",
    "對於司機服務態度是否滿意:五點量表\n",
    "是否下次會再選擇本公司:類別(單選)\n",
    "未來可增加乘車體驗建議:文字\n",
    "整體建議事項:文字\n",
    "\n",
    "c.每趟行程的距離以及車資\n",
    "姓名(ID):文字\n",
    "上車地點:geometry(GIS位置)\n",
    "下車地點:geometry(GIS位置)\n",
    "乘車距離:float\n",
    "車資:int\n",
    "\n",
    "4. 你要回答的問題，其如何評估 (tips：你的假設如何驗證)\n",
    "Ans:\n",
    "假設問題->提升業績:增加載客率以及回頭車的機率\n",
    "a.分析1:業績變化分析\n",
    "X輸入變數\n",
    "性別:類別(單選)\n",
    "年齡層:類別(單選)\n",
    "職業:類別(單選)\n",
    "學歷:類別(單選)\n",
    "\n",
    "對於本次搭乘整體是否滿意:五點量表\n",
    "對於搭乘路線是否滿意:五點量表\n",
    "對於司機服務態度是否滿意:五點量表\n",
    "是否下次會再選擇本公司:類別(單選)\n",
    "未來可增加乘車體驗建議:文字\n",
    "整體建議事項:文字\n",
    "\n",
    "上車地點:geometry(GIS位置)\n",
    "下車地點:geometry(GIS位置)\n",
    "乘車距離:float\n",
    "車資:int\n",
    "Y輸出變數\n",
    "車資:int(收入變化分析)\n",
    "次數:int(回頭車分析、搭乘次數分析)\n",
    "\n",
    "b.分析2:客戶乘車體驗分析\n",
    "X輸入變數\n",
    "\n",
    "未來可增加乘車體驗建議:文字->NLP自然語言分析，先進行斷詞轉X變項\n",
    "整體建議事項:文字->NLP自然語言分析，先進行斷詞轉X變項\n",
    "\n",
    "\"\"\""
   ]
  }
 ],
 "metadata": {
  "anaconda-cloud": {},
  "kernelspec": {
   "display_name": "Python 3",
   "language": "python",
   "name": "python3"
  },
  "language_info": {
   "codemirror_mode": {
    "name": "ipython",
    "version": 3
   },
   "file_extension": ".py",
   "mimetype": "text/x-python",
   "name": "python",
   "nbconvert_exporter": "python",
   "pygments_lexer": "ipython3",
   "version": "3.7.1"
  }
 },
 "nbformat": 4,
 "nbformat_minor": 1
}
